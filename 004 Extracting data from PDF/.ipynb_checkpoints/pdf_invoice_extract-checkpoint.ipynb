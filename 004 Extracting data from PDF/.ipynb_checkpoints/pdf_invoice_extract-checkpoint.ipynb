{
 "cells": [
  {
   "cell_type": "code",
   "execution_count": 2,
   "metadata": {},
   "outputs": [
    {
     "name": "stdout",
     "output_type": "stream",
     "text": [
      "Collecting pdfplumber\n",
      "  Downloading pdfplumber-0.5.26.tar.gz (43 kB)\n",
      "Requirement already satisfied: Pillow>=7.0.0 in c:\\python37\\lib\\site-packages (from pdfplumber) (8.0.1)\n",
      "Collecting pdfminer.six==20200517\n",
      "  Downloading pdfminer.six-20200517-py3-none-any.whl (5.6 MB)\n",
      "Requirement already satisfied: chardet in c:\\python37\\lib\\site-packages (from pdfminer.six==20200517->pdfplumber) (3.0.4)\n",
      "Collecting pycryptodome"
     ]
    },
    {
     "name": "stderr",
     "output_type": "stream",
     "text": [
      "WARNING: You are using pip version 20.3.3; however, version 21.0.1 is available.\n",
      "You should consider upgrading via the 'c:\\python37\\python.exe -m pip install --upgrade pip' command.\n"
     ]
    },
    {
     "name": "stdout",
     "output_type": "stream",
     "text": [
      "\n",
      "  Downloading pycryptodome-3.10.1-cp35-abi3-win_amd64.whl (1.6 MB)\n",
      "Collecting sortedcontainers\n",
      "  Downloading sortedcontainers-2.3.0-py2.py3-none-any.whl (29 kB)\n",
      "Collecting Wand\n",
      "  Downloading Wand-0.6.5-py2.py3-none-any.whl (138 kB)\n",
      "Building wheels for collected packages: pdfplumber\n",
      "  Building wheel for pdfplumber (setup.py): started\n",
      "  Building wheel for pdfplumber (setup.py): finished with status 'done'\n",
      "  Created wheel for pdfplumber: filename=pdfplumber-0.5.26-py3-none-any.whl size=31746 sha256=e5da25b7152d58a02d7f0b4016b5d9b4e4af9243230d6bbc17c7077e0d479fdd\n",
      "  Stored in directory: c:\\users\\sandesh\\appdata\\local\\pip\\cache\\wheels\\43\\4e\\b8\\076343ac143497a16a95f65a1d7edead8ce22793484c15a16c\n",
      "Successfully built pdfplumber\n",
      "Installing collected packages: sortedcontainers, pycryptodome, Wand, pdfminer.six, pdfplumber\n",
      "Successfully installed Wand-0.6.5 pdfminer.six-20200517 pdfplumber-0.5.26 pycryptodome-3.10.1 sortedcontainers-2.3.0\n"
     ]
    }
   ],
   "source": [
    "!pip install pdfplumber"
   ]
  },
  {
   "cell_type": "code",
   "execution_count": 1,
   "metadata": {},
   "outputs": [
    {
     "ename": "ModuleNotFoundError",
     "evalue": "No module named 'pdfplumber'",
     "output_type": "error",
     "traceback": [
      "\u001b[1;31m---------------------------------------------------------------------------\u001b[0m",
      "\u001b[1;31mModuleNotFoundError\u001b[0m                       Traceback (most recent call last)",
      "\u001b[1;32m<ipython-input-1-2da0e1a44531>\u001b[0m in \u001b[0;36m<module>\u001b[1;34m\u001b[0m\n\u001b[0;32m      1\u001b[0m \u001b[1;32mimport\u001b[0m \u001b[0mrequests\u001b[0m\u001b[1;33m\u001b[0m\u001b[0m\n\u001b[1;32m----> 2\u001b[1;33m \u001b[1;32mimport\u001b[0m \u001b[0mpdfplumber\u001b[0m\u001b[1;33m\u001b[0m\u001b[0m\n\u001b[0m",
      "\u001b[1;31mModuleNotFoundError\u001b[0m: No module named 'pdfplumber'"
     ]
    }
   ],
   "source": [
    "import requests\n",
    "import pdfplumber"
   ]
  },
  {
   "cell_type": "code",
   "execution_count": 2,
   "metadata": {},
   "outputs": [],
   "source": [
    "def download_file(url):\n",
    "    local_filename = url.split('/')[-1]\n",
    "    \n",
    "    with requests.get(url) as r:\n",
    "        with open(local_filename, 'wb') as f:\n",
    "            f.write(r.content)\n",
    "        \n",
    "    return local_filename"
   ]
  },
  {
   "cell_type": "code",
   "execution_count": 3,
   "metadata": {},
   "outputs": [],
   "source": [
    "invoice_url = 'http://www.k-billing.com/example_invoices/professionalblue_example.pdf'"
   ]
  },
  {
   "cell_type": "code",
   "execution_count": 4,
   "metadata": {},
   "outputs": [],
   "source": [
    "invoice = download_file(invoice_url)"
   ]
  },
  {
   "cell_type": "code",
   "execution_count": 5,
   "metadata": {},
   "outputs": [],
   "source": [
    "with pdfplumber.open(invoice) as pdf:\n",
    "    page = pdf.pages[0]\n",
    "    text = page.extract_text()"
   ]
  },
  {
   "cell_type": "code",
   "execution_count": 10,
   "metadata": {},
   "outputs": [
    {
     "name": "stdout",
     "output_type": "stream",
     "text": [
      "INVOICE\n",
      "Invoice No. I1083\n",
      "Account # C1006\n",
      "Date 08-14-2008\n",
      "Due By 08-31-2008\n",
      "Demo Company\n",
      "Phone : 111-222-3333 Terms None\n",
      "1234 Main Street E-Mail : 333-444-4444 PO No. PO1234\n",
      "Ashland, KY 41102 Web : ht\n"
     ]
    }
   ],
   "source": [
    "print(text[:200])"
   ]
  },
  {
   "cell_type": "code",
   "execution_count": 11,
   "metadata": {},
   "outputs": [],
   "source": [
    "for row in text.split('\\n'):\n",
    "    if row.startswith('Balance Due'):\n",
    "        balance = row.split()[-1]"
   ]
  },
  {
   "cell_type": "code",
   "execution_count": 12,
   "metadata": {},
   "outputs": [
    {
     "data": {
      "text/plain": [
       "'$170.78'"
      ]
     },
     "execution_count": 12,
     "metadata": {},
     "output_type": "execute_result"
    }
   ],
   "source": [
    "balance"
   ]
  },
  {
   "cell_type": "code",
   "execution_count": null,
   "metadata": {},
   "outputs": [],
   "source": []
  }
 ],
 "metadata": {
  "kernelspec": {
   "display_name": "Python 3",
   "language": "python",
   "name": "python3"
  },
  "language_info": {
   "codemirror_mode": {
    "name": "ipython",
    "version": 3
   },
   "file_extension": ".py",
   "mimetype": "text/x-python",
   "name": "python",
   "nbconvert_exporter": "python",
   "pygments_lexer": "ipython3",
   "version": "3.7.0"
  }
 },
 "nbformat": 4,
 "nbformat_minor": 4
}
